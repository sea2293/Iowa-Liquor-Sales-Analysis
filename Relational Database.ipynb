{
 "cells": [
  {
   "cell_type": "code",
   "execution_count": 1,
   "id": "70c097dd",
   "metadata": {},
   "outputs": [],
   "source": [
    "#importing necessary modules\n",
    "import pandas as pd\n",
    "import numpy as np\n",
    "import time\n",
    "import seaborn as sns\n",
    "from matplotlib import pyplot as plt\n",
    "import sqlite3\n",
    "%matplotlib inline"
   ]
  },
  {
   "cell_type": "code",
   "execution_count": 11,
   "id": "bed68c4f",
   "metadata": {},
   "outputs": [],
   "source": [
    "products = pd.read_csv('ia_products.csv')\n",
    "product_price = pd.read_csv('ia_product_price.csv')\n",
    "vendors = pd.read_csv('ia_vendors.csv')\n",
    "stores = pd.read_csv('ia_stores.csv')\n",
    "transactions = pd.read_csv('transactions.csv')"
   ]
  },
  {
   "cell_type": "code",
   "execution_count": 3,
   "id": "05ded8b3",
   "metadata": {},
   "outputs": [
    {
     "data": {
      "text/plain": [
       "Index(['Unnamed: 0', 'ItemNumber', 'Category', 'CategoryName',\n",
       "       'ItemDescription', 'BottleVolume(ml)', 'Proof', 'Imported', 'Type'],\n",
       "      dtype='object')"
      ]
     },
     "execution_count": 3,
     "metadata": {},
     "output_type": "execute_result"
    }
   ],
   "source": [
    "products.columns"
   ]
  },
  {
   "cell_type": "code",
   "execution_count": 14,
   "id": "d7c32df3",
   "metadata": {},
   "outputs": [],
   "source": [
    "products.drop(['Unnamed: 0'], axis=1, inplace=True)"
   ]
  },
  {
   "cell_type": "code",
   "execution_count": 15,
   "id": "28d1a626",
   "metadata": {},
   "outputs": [],
   "source": [
    "conn = sqlite3.connect('liquor_rdb.db')\n",
    "#make cursor\n",
    "cursor = conn.cursor()\n",
    "#make products table\n",
    "sql_query = '''CREATE TABLE products(\n",
    "                   'ItemNumber' varchar(50) PRIMARY KEY,\n",
    "                   'Category' float(64),\n",
    "                   'CategoryName' varchar(50),\n",
    "                   'ItemDescription' varchar(50),\n",
    "                   'Bottlevolume(ml)' float(64),\n",
    "                   'Proof' float(64),\n",
    "                   'Imported' varchar(50),\n",
    "                   'Type' varchar(50));'''\n",
    "\n",
    "cursor.execute(sql_query)\n",
    "# insert data\n",
    "products.to_sql('products',conn,if_exists='append',index=False)\n",
    "\n",
    "cursor.close()\n",
    "conn.close()"
   ]
  },
  {
   "cell_type": "code",
   "execution_count": 5,
   "id": "e6b8a295",
   "metadata": {},
   "outputs": [
    {
     "data": {
      "text/plain": [
       "Index(['ItemNumber', 'Date', 'StateBottleRetail', 'StateBottleCost',\n",
       "       'StateBottleProfit'],\n",
       "      dtype='object')"
      ]
     },
     "execution_count": 5,
     "metadata": {},
     "output_type": "execute_result"
    }
   ],
   "source": [
    "product_price.columns"
   ]
  },
  {
   "cell_type": "code",
   "execution_count": 16,
   "id": "cbeed741",
   "metadata": {},
   "outputs": [],
   "source": [
    "conn = sqlite3.connect('liquor_rdb.db')\n",
    "#make cursor\n",
    "cursor = conn.cursor()\n",
    "#make product-price table\n",
    "sql_query = '''CREATE TABLE product_price(\n",
    "                   'ItemNumber' varchar(50),\n",
    "                   'Date' datetime64[ns],\n",
    "                   'StateBottleRetail' float(64),\n",
    "                   'StateBottleCost' float(64),\n",
    "                   'StateBottleProfit' float(64),\n",
    "                   primary key ('ItemNumber', 'Date'),\n",
    "                   FOREIGN KEY ('ItemNumber') REFERENCES products('ItemNumber')\n",
    "                   );'''\n",
    "cursor.execute(sql_query)\n",
    "#insert data\n",
    "product_price.to_sql('product_price',conn,if_exists='append',index=False)\n",
    "\n",
    "cursor.close()\n",
    "conn.close()"
   ]
  },
  {
   "cell_type": "code",
   "execution_count": 6,
   "id": "8f0eb032",
   "metadata": {},
   "outputs": [
    {
     "data": {
      "text/plain": [
       "Index(['Unnamed: 0', 'StoreNumber', 'StoreName', 'County', 'CountyNumber',\n",
       "       'City', 'ZipCode', 'StoreLocation', 'Address', 'StoreType'],\n",
       "      dtype='object')"
      ]
     },
     "execution_count": 6,
     "metadata": {},
     "output_type": "execute_result"
    }
   ],
   "source": [
    "stores.columns"
   ]
  },
  {
   "cell_type": "code",
   "execution_count": 13,
   "id": "e7a3b5e0",
   "metadata": {},
   "outputs": [],
   "source": [
    "stores.drop(['Unnamed: 0'], axis=1, inplace=True)"
   ]
  },
  {
   "cell_type": "code",
   "execution_count": 17,
   "id": "06330dc8",
   "metadata": {},
   "outputs": [],
   "source": [
    "conn = sqlite3.connect('liquor_rdb.db')\n",
    "#make cursor\n",
    "cursor = conn.cursor()\n",
    "#make stores table\n",
    "sql_query = '''CREATE TABLE stores(\n",
    "                   'StoreNumber' INTEGER PRIMARY KEY,\n",
    "                   'StoreName' varchar(250),\n",
    "                   'County' varchar(250),\n",
    "                   'CountyNumber' varchar(250),\n",
    "                   'City' varchar(250),\n",
    "                   'ZipCode' varchar(250),\n",
    "                   'StoreLocation' varchar(250),\n",
    "                   'Address' varchar(250),\n",
    "                   'StoreType' varchar(250));'''\n",
    "\n",
    "cursor.execute(sql_query)\n",
    "#insert data\n",
    "stores.to_sql('stores',conn,if_exists='append',index=False)\n",
    "\n",
    "cursor.close()\n",
    "conn.close()"
   ]
  },
  {
   "cell_type": "code",
   "execution_count": 9,
   "id": "3f59ad88",
   "metadata": {},
   "outputs": [
    {
     "data": {
      "text/plain": [
       "Index(['InvoiceID', 'Date', 'StoreNumber', 'Category', 'VendorNumber',\n",
       "       'ItemNumber', 'BottlesSold', 'Sale(USD)', 'VolumeSold(Liters)'],\n",
       "      dtype='object')"
      ]
     },
     "execution_count": 9,
     "metadata": {},
     "output_type": "execute_result"
    }
   ],
   "source": [
    "transactions.columns"
   ]
  },
  {
   "cell_type": "code",
   "execution_count": 18,
   "id": "e60f9891",
   "metadata": {},
   "outputs": [],
   "source": [
    "conn = sqlite3.connect('liquor_rdb.db')\n",
    "#make cursor\n",
    "cursor = conn.cursor()\n",
    "#make transactions table\n",
    "sql_query = '''CREATE TABLE transactions(\n",
    "                   'InvoiceID' varchar(50) PRIMARY KEY,\n",
    "                   'Date' datetime64[ns],\n",
    "                   'StoreNumber' varchar(50),\n",
    "                   'Category' varchar(50),\n",
    "                   'VendorNumber' varchar(50),\n",
    "                   'ItemNumber' varchar(50),\n",
    "                   'BottlesSold' interger,\n",
    "                   'Sale(USD)' float(64),\n",
    "                   'VolumeSold(Liters)' float(64),\n",
    "                   FOREIGN KEY ('VendorNumber') REFERENCES vendors('VendorNumber'),\n",
    "                   FOREIGN KEY ('ItemNumber','Date') REFERENCES product_price('ItemNumber','Date'),\n",
    "                   FOREIGN KEY ('StoreNumber') REFERENCES stores('StoreNumber')\n",
    "                   );'''\n",
    "cursor.execute(sql_query)\n",
    "# insert data\n",
    "transcations.to_sql('transactions',conn,if_exists='append',index=False)\n",
    "\n",
    "cursor.close()\n",
    "conn.close()"
   ]
  },
  {
   "cell_type": "code",
   "execution_count": 12,
   "id": "092c2887",
   "metadata": {},
   "outputs": [
    {
     "data": {
      "text/plain": [
       "Index(['Unnamed: 0', 'VendorNumber', 'VendorName'], dtype='object')"
      ]
     },
     "execution_count": 12,
     "metadata": {},
     "output_type": "execute_result"
    }
   ],
   "source": [
    "vendors.columns"
   ]
  },
  {
   "cell_type": "code",
   "execution_count": 19,
   "id": "a6a8b69d",
   "metadata": {},
   "outputs": [],
   "source": [
    "vendors.drop(['Unnamed: 0'], axis=1, inplace=True)"
   ]
  },
  {
   "cell_type": "code",
   "execution_count": 20,
   "id": "2fa77046",
   "metadata": {},
   "outputs": [],
   "source": [
    "conn = sqlite3.connect('liquor_rdb.db')\n",
    "#make cursor\n",
    "cursor = conn.cursor()\n",
    "#make vendor table\n",
    "sql_query = '''CREATE TABLE vendors(\n",
    "                   'VendorNumber' varchar(50) PRIMARY KEY,\n",
    "                   'VendorName' varchar(50));'''\n",
    "cursor.execute(sql_query)\n",
    "# insert data\n",
    "vendors.to_sql('vendors',conn,if_exists='append',index=False)\n",
    "\n",
    "cursor.close()\n",
    "conn.close()"
   ]
  },
  {
   "cell_type": "code",
   "execution_count": 21,
   "id": "810071e0",
   "metadata": {},
   "outputs": [],
   "source": [
    "#fetching table \n",
    "conn = sqlite3.connect('liquor_rdb.db')\n",
    "cursor = conn.cursor()\n",
    "#select data and transform to df\n",
    "query = '''SELECT * FROM products  ;'''\n",
    "cursor.execute(query)\n",
    "result = cursor.fetchall()\n",
    "cursor.close()\n",
    "conn.close()"
   ]
  },
  {
   "cell_type": "code",
   "execution_count": 22,
   "id": "a96e5592",
   "metadata": {},
   "outputs": [
    {
     "data": {
      "text/plain": [
       "11728"
      ]
     },
     "execution_count": 22,
     "metadata": {},
     "output_type": "execute_result"
    }
   ],
   "source": [
    "len(result)"
   ]
  },
  {
   "cell_type": "code",
   "execution_count": 23,
   "id": "299ee369",
   "metadata": {},
   "outputs": [
    {
     "data": {
      "text/html": [
       "<div>\n",
       "<style scoped>\n",
       "    .dataframe tbody tr th:only-of-type {\n",
       "        vertical-align: middle;\n",
       "    }\n",
       "\n",
       "    .dataframe tbody tr th {\n",
       "        vertical-align: top;\n",
       "    }\n",
       "\n",
       "    .dataframe thead th {\n",
       "        text-align: right;\n",
       "    }\n",
       "</style>\n",
       "<table border=\"1\" class=\"dataframe\">\n",
       "  <thead>\n",
       "    <tr style=\"text-align: right;\">\n",
       "      <th></th>\n",
       "      <th>ItemNumber</th>\n",
       "      <th>Category</th>\n",
       "      <th>CategoryName</th>\n",
       "      <th>ItemDescription</th>\n",
       "      <th>BottleVolume(ml)</th>\n",
       "      <th>Proof</th>\n",
       "      <th>Imported</th>\n",
       "      <th>Type</th>\n",
       "    </tr>\n",
       "  </thead>\n",
       "  <tbody>\n",
       "    <tr>\n",
       "      <th>0</th>\n",
       "      <td>26826</td>\n",
       "      <td>1011400.0</td>\n",
       "      <td>tennessee whiskies</td>\n",
       "      <td>jack daniels old #7 black lbl</td>\n",
       "      <td>750.0</td>\n",
       "      <td>80.0</td>\n",
       "      <td>domestic</td>\n",
       "      <td>whiskey</td>\n",
       "    </tr>\n",
       "    <tr>\n",
       "      <th>1</th>\n",
       "      <td>69706</td>\n",
       "      <td>1082200.0</td>\n",
       "      <td>imported schnapps</td>\n",
       "      <td>dr. mcgillicuddy's root beer schnapps</td>\n",
       "      <td>750.0</td>\n",
       "      <td>42.0</td>\n",
       "      <td>imported</td>\n",
       "      <td>schnapps</td>\n",
       "    </tr>\n",
       "    <tr>\n",
       "      <th>2</th>\n",
       "      <td>37664</td>\n",
       "      <td>1031100.0</td>\n",
       "      <td>american vodkas</td>\n",
       "      <td>row vodka mini</td>\n",
       "      <td>0.0</td>\n",
       "      <td>80.0</td>\n",
       "      <td>domestic</td>\n",
       "      <td>vodka</td>\n",
       "    </tr>\n",
       "    <tr>\n",
       "      <th>3</th>\n",
       "      <td>37258</td>\n",
       "      <td>1031100.0</td>\n",
       "      <td>american vodkas</td>\n",
       "      <td>missing</td>\n",
       "      <td>1000.0</td>\n",
       "      <td>80.0</td>\n",
       "      <td>domestic</td>\n",
       "      <td>vodka</td>\n",
       "    </tr>\n",
       "    <tr>\n",
       "      <th>4</th>\n",
       "      <td>43026</td>\n",
       "      <td>1062400.0</td>\n",
       "      <td>spiced rum</td>\n",
       "      <td>admiral nelson spiced rum</td>\n",
       "      <td>750.0</td>\n",
       "      <td>70.0</td>\n",
       "      <td>domestic</td>\n",
       "      <td>rum</td>\n",
       "    </tr>\n",
       "    <tr>\n",
       "      <th>...</th>\n",
       "      <td>...</td>\n",
       "      <td>...</td>\n",
       "      <td>...</td>\n",
       "      <td>...</td>\n",
       "      <td>...</td>\n",
       "      <td>...</td>\n",
       "      <td>...</td>\n",
       "      <td>...</td>\n",
       "    </tr>\n",
       "    <tr>\n",
       "      <th>11723</th>\n",
       "      <td>977249</td>\n",
       "      <td>1091100.0</td>\n",
       "      <td>american distilled spirit specialty</td>\n",
       "      <td>mark and diggers rye apple moonshine mini</td>\n",
       "      <td>50.0</td>\n",
       "      <td>80.0</td>\n",
       "      <td>domestic</td>\n",
       "      <td>whiskey</td>\n",
       "    </tr>\n",
       "    <tr>\n",
       "      <th>11724</th>\n",
       "      <td>977237</td>\n",
       "      <td>1091100.0</td>\n",
       "      <td>american distilled spirit specialty</td>\n",
       "      <td>mark and diggers hazelnut rum mini</td>\n",
       "      <td>50.0</td>\n",
       "      <td>80.0</td>\n",
       "      <td>domestic</td>\n",
       "      <td>rum</td>\n",
       "    </tr>\n",
       "    <tr>\n",
       "      <th>11725</th>\n",
       "      <td>977241</td>\n",
       "      <td>1091100.0</td>\n",
       "      <td>american distilled spirit specialty</td>\n",
       "      <td>appalachian apple pie moonshine mini</td>\n",
       "      <td>50.0</td>\n",
       "      <td>50.0</td>\n",
       "      <td>domestic</td>\n",
       "      <td>whiskey</td>\n",
       "    </tr>\n",
       "    <tr>\n",
       "      <th>11726</th>\n",
       "      <td>978152</td>\n",
       "      <td>1091100.0</td>\n",
       "      <td>american distilled spirit specialty</td>\n",
       "      <td>ryder cup lemonade moonshine mini</td>\n",
       "      <td>50.0</td>\n",
       "      <td>40.0</td>\n",
       "      <td>domestic</td>\n",
       "      <td>whiskey</td>\n",
       "    </tr>\n",
       "    <tr>\n",
       "      <th>11727</th>\n",
       "      <td>972565</td>\n",
       "      <td>1081300.0</td>\n",
       "      <td>american cordials &amp; liqueur</td>\n",
       "      <td>calisaya</td>\n",
       "      <td>750.0</td>\n",
       "      <td>70.0</td>\n",
       "      <td>domestic</td>\n",
       "      <td>liqueur</td>\n",
       "    </tr>\n",
       "  </tbody>\n",
       "</table>\n",
       "<p>11728 rows × 8 columns</p>\n",
       "</div>"
      ],
      "text/plain": [
       "      ItemNumber   Category                         CategoryName  \\\n",
       "0          26826  1011400.0                   tennessee whiskies   \n",
       "1          69706  1082200.0                    imported schnapps   \n",
       "2          37664  1031100.0                      american vodkas   \n",
       "3          37258  1031100.0                      american vodkas   \n",
       "4          43026  1062400.0                           spiced rum   \n",
       "...          ...        ...                                  ...   \n",
       "11723     977249  1091100.0  american distilled spirit specialty   \n",
       "11724     977237  1091100.0  american distilled spirit specialty   \n",
       "11725     977241  1091100.0  american distilled spirit specialty   \n",
       "11726     978152  1091100.0  american distilled spirit specialty   \n",
       "11727     972565  1081300.0          american cordials & liqueur   \n",
       "\n",
       "                                 ItemDescription  BottleVolume(ml)  Proof  \\\n",
       "0                  jack daniels old #7 black lbl             750.0   80.0   \n",
       "1          dr. mcgillicuddy's root beer schnapps             750.0   42.0   \n",
       "2                                 row vodka mini               0.0   80.0   \n",
       "3                                        missing            1000.0   80.0   \n",
       "4                      admiral nelson spiced rum             750.0   70.0   \n",
       "...                                          ...               ...    ...   \n",
       "11723  mark and diggers rye apple moonshine mini              50.0   80.0   \n",
       "11724         mark and diggers hazelnut rum mini              50.0   80.0   \n",
       "11725       appalachian apple pie moonshine mini              50.0   50.0   \n",
       "11726          ryder cup lemonade moonshine mini              50.0   40.0   \n",
       "11727                                   calisaya             750.0   70.0   \n",
       "\n",
       "       Imported      Type  \n",
       "0      domestic   whiskey  \n",
       "1      imported  schnapps  \n",
       "2      domestic     vodka  \n",
       "3      domestic     vodka  \n",
       "4      domestic       rum  \n",
       "...         ...       ...  \n",
       "11723  domestic   whiskey  \n",
       "11724  domestic       rum  \n",
       "11725  domestic   whiskey  \n",
       "11726  domestic   whiskey  \n",
       "11727  domestic   liqueur  \n",
       "\n",
       "[11728 rows x 8 columns]"
      ]
     },
     "execution_count": 23,
     "metadata": {},
     "output_type": "execute_result"
    }
   ],
   "source": [
    "\n",
    "pd.DataFrame(result,columns=['ItemNumber', 'Category', 'CategoryName', 'ItemDescription',\n",
    "       'BottleVolume(ml)', 'Proof', 'Imported', 'Type'])"
   ]
  },
  {
   "cell_type": "code",
   "execution_count": null,
   "id": "b4f5ad43",
   "metadata": {},
   "outputs": [],
   "source": []
  },
  {
   "cell_type": "code",
   "execution_count": null,
   "id": "9d1bbe8b",
   "metadata": {},
   "outputs": [],
   "source": []
  },
  {
   "cell_type": "code",
   "execution_count": null,
   "id": "dacf3ec7",
   "metadata": {},
   "outputs": [],
   "source": []
  },
  {
   "cell_type": "code",
   "execution_count": null,
   "id": "1f0cdcf6",
   "metadata": {},
   "outputs": [],
   "source": []
  }
 ],
 "metadata": {
  "kernelspec": {
   "display_name": "Python 3 (ipykernel)",
   "language": "python",
   "name": "python3"
  },
  "language_info": {
   "codemirror_mode": {
    "name": "ipython",
    "version": 3
   },
   "file_extension": ".py",
   "mimetype": "text/x-python",
   "name": "python",
   "nbconvert_exporter": "python",
   "pygments_lexer": "ipython3",
   "version": "3.9.7"
  }
 },
 "nbformat": 4,
 "nbformat_minor": 5
}
